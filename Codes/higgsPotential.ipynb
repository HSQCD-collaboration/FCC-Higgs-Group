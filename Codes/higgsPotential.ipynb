## Higgs Potential
$$ V(\phi) \propto - \phi^2 + \frac{1}{2} \phi^4 $$

