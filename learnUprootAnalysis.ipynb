{
 "cells": [
  {
   "cell_type": "code",
   "execution_count": 1,
   "id": "94b29557-9e63-4710-b00c-628d8cedbefe",
   "metadata": {},
   "outputs": [],
   "source": [
    "#!pip install matplotlib\n",
    "import uproot\n",
    "import numpy as np\n",
    "import matplotlib.pyplot as plt\n"
   ]
  },
  {
   "cell_type": "code",
   "execution_count": 2,
   "id": "e147479b-8295-40ef-88ac-0c2a46861f12",
   "metadata": {},
   "outputs": [],
   "source": [
    "# Open the ROOT file\n",
    "file = uproot.open(\"eeTojjlv.root\")\n",
    "\n",
    "#CREATE TREE\n",
    "tree = file[\"Delphes\"]\n",
    "\n"
   ]
  },
  {
   "cell_type": "code",
   "execution_count": 3,
   "id": "2ebfb20b-730a-4033-8fa7-9c341db1ac39",
   "metadata": {},
   "outputs": [
    {
     "data": {
      "text/plain": [
       "['Event',\n",
       " 'Event/Event.fUniqueID',\n",
       " 'Event/Event.fBits',\n",
       " 'Event/Event.Number',\n",
       " 'Event/Event.ReadTime',\n",
       " 'Event/Event.ProcTime',\n",
       " 'Event/Event.ProcessID',\n",
       " 'Event/Event.MPI',\n",
       " 'Event/Event.Weight',\n",
       " 'Event/Event.CrossSection',\n",
       " 'Event/Event.CrossSectionError',\n",
       " 'Event/Event.Scale',\n",
       " 'Event/Event.AlphaQED',\n",
       " 'Event/Event.AlphaQCD',\n",
       " 'Event/Event.ID1',\n",
       " 'Event/Event.ID2',\n",
       " 'Event/Event.X1',\n",
       " 'Event/Event.X2',\n",
       " 'Event/Event.ScalePDF',\n",
       " 'Event/Event.PDF1',\n",
       " 'Event/Event.PDF2',\n",
       " 'Event_size',\n",
       " 'Weight',\n",
       " 'Weight/Weight.fUniqueID',\n",
       " 'Weight/Weight.fBits',\n",
       " 'Weight/Weight.Weight',\n",
       " 'Weight_size',\n",
       " 'Particle',\n",
       " 'Particle/Particle.fUniqueID',\n",
       " 'Particle/Particle.fBits',\n",
       " 'Particle/Particle.PID',\n",
       " 'Particle/Particle.Status',\n",
       " 'Particle/Particle.IsPU',\n",
       " 'Particle/Particle.M1',\n",
       " 'Particle/Particle.M2',\n",
       " 'Particle/Particle.D1',\n",
       " 'Particle/Particle.D2',\n",
       " 'Particle/Particle.Charge',\n",
       " 'Particle/Particle.Mass',\n",
       " 'Particle/Particle.E',\n",
       " 'Particle/Particle.Px',\n",
       " 'Particle/Particle.Py',\n",
       " 'Particle/Particle.Pz',\n",
       " 'Particle/Particle.P',\n",
       " 'Particle/Particle.PT',\n",
       " 'Particle/Particle.Eta',\n",
       " 'Particle/Particle.Phi',\n",
       " 'Particle/Particle.Rapidity',\n",
       " 'Particle/Particle.T',\n",
       " 'Particle/Particle.X',\n",
       " 'Particle/Particle.Y',\n",
       " 'Particle/Particle.Z',\n",
       " 'Particle_size',\n",
       " 'Track',\n",
       " 'Track/Track.fUniqueID',\n",
       " 'Track/Track.fBits',\n",
       " 'Track/Track.PID',\n",
       " 'Track/Track.Charge',\n",
       " 'Track/Track.P',\n",
       " 'Track/Track.PT',\n",
       " 'Track/Track.Eta',\n",
       " 'Track/Track.Phi',\n",
       " 'Track/Track.CtgTheta',\n",
       " 'Track/Track.C',\n",
       " 'Track/Track.Mass',\n",
       " 'Track/Track.EtaOuter',\n",
       " 'Track/Track.PhiOuter',\n",
       " 'Track/Track.T',\n",
       " 'Track/Track.X',\n",
       " 'Track/Track.Y',\n",
       " 'Track/Track.Z',\n",
       " 'Track/Track.TOuter',\n",
       " 'Track/Track.XOuter',\n",
       " 'Track/Track.YOuter',\n",
       " 'Track/Track.ZOuter',\n",
       " 'Track/Track.Xd',\n",
       " 'Track/Track.Yd',\n",
       " 'Track/Track.Zd',\n",
       " 'Track/Track.L',\n",
       " 'Track/Track.D0',\n",
       " 'Track/Track.DZ',\n",
       " 'Track/Track.Nclusters',\n",
       " 'Track/Track.dNdx',\n",
       " 'Track/Track.ErrorP',\n",
       " 'Track/Track.ErrorPT',\n",
       " 'Track/Track.ErrorPhi',\n",
       " 'Track/Track.ErrorCtgTheta',\n",
       " 'Track/Track.ErrorT',\n",
       " 'Track/Track.ErrorD0',\n",
       " 'Track/Track.ErrorDZ',\n",
       " 'Track/Track.ErrorC',\n",
       " 'Track/Track.ErrorD0Phi',\n",
       " 'Track/Track.ErrorD0C',\n",
       " 'Track/Track.ErrorD0DZ',\n",
       " 'Track/Track.ErrorD0CtgTheta',\n",
       " 'Track/Track.ErrorPhiC',\n",
       " 'Track/Track.ErrorPhiDZ',\n",
       " 'Track/Track.ErrorPhiCtgTheta',\n",
       " 'Track/Track.ErrorCDZ',\n",
       " 'Track/Track.ErrorCCtgTheta',\n",
       " 'Track/Track.ErrorDZCtgTheta',\n",
       " 'Track/Track.Particle',\n",
       " 'Track/Track.VertexIndex',\n",
       " 'Track_size',\n",
       " 'Tower',\n",
       " 'Tower/Tower.fUniqueID',\n",
       " 'Tower/Tower.fBits',\n",
       " 'Tower/Tower.ET',\n",
       " 'Tower/Tower.Eta',\n",
       " 'Tower/Tower.Phi',\n",
       " 'Tower/Tower.E',\n",
       " 'Tower/Tower.T',\n",
       " 'Tower/Tower.NTimeHits',\n",
       " 'Tower/Tower.Eem',\n",
       " 'Tower/Tower.Ehad',\n",
       " 'Tower/Tower.Edges[4]',\n",
       " 'Tower/Tower.Particles',\n",
       " 'Tower_size',\n",
       " 'EFlowTrack',\n",
       " 'EFlowTrack/EFlowTrack.fUniqueID',\n",
       " 'EFlowTrack/EFlowTrack.fBits',\n",
       " 'EFlowTrack/EFlowTrack.PID',\n",
       " 'EFlowTrack/EFlowTrack.Charge',\n",
       " 'EFlowTrack/EFlowTrack.P',\n",
       " 'EFlowTrack/EFlowTrack.PT',\n",
       " 'EFlowTrack/EFlowTrack.Eta',\n",
       " 'EFlowTrack/EFlowTrack.Phi',\n",
       " 'EFlowTrack/EFlowTrack.CtgTheta',\n",
       " 'EFlowTrack/EFlowTrack.C',\n",
       " 'EFlowTrack/EFlowTrack.Mass',\n",
       " 'EFlowTrack/EFlowTrack.EtaOuter',\n",
       " 'EFlowTrack/EFlowTrack.PhiOuter',\n",
       " 'EFlowTrack/EFlowTrack.T',\n",
       " 'EFlowTrack/EFlowTrack.X',\n",
       " 'EFlowTrack/EFlowTrack.Y',\n",
       " 'EFlowTrack/EFlowTrack.Z',\n",
       " 'EFlowTrack/EFlowTrack.TOuter',\n",
       " 'EFlowTrack/EFlowTrack.XOuter',\n",
       " 'EFlowTrack/EFlowTrack.YOuter',\n",
       " 'EFlowTrack/EFlowTrack.ZOuter',\n",
       " 'EFlowTrack/EFlowTrack.Xd',\n",
       " 'EFlowTrack/EFlowTrack.Yd',\n",
       " 'EFlowTrack/EFlowTrack.Zd',\n",
       " 'EFlowTrack/EFlowTrack.L',\n",
       " 'EFlowTrack/EFlowTrack.D0',\n",
       " 'EFlowTrack/EFlowTrack.DZ',\n",
       " 'EFlowTrack/EFlowTrack.Nclusters',\n",
       " 'EFlowTrack/EFlowTrack.dNdx',\n",
       " 'EFlowTrack/EFlowTrack.ErrorP',\n",
       " 'EFlowTrack/EFlowTrack.ErrorPT',\n",
       " 'EFlowTrack/EFlowTrack.ErrorPhi',\n",
       " 'EFlowTrack/EFlowTrack.ErrorCtgTheta',\n",
       " 'EFlowTrack/EFlowTrack.ErrorT',\n",
       " 'EFlowTrack/EFlowTrack.ErrorD0',\n",
       " 'EFlowTrack/EFlowTrack.ErrorDZ',\n",
       " 'EFlowTrack/EFlowTrack.ErrorC',\n",
       " 'EFlowTrack/EFlowTrack.ErrorD0Phi',\n",
       " 'EFlowTrack/EFlowTrack.ErrorD0C',\n",
       " 'EFlowTrack/EFlowTrack.ErrorD0DZ',\n",
       " 'EFlowTrack/EFlowTrack.ErrorD0CtgTheta',\n",
       " 'EFlowTrack/EFlowTrack.ErrorPhiC',\n",
       " 'EFlowTrack/EFlowTrack.ErrorPhiDZ',\n",
       " 'EFlowTrack/EFlowTrack.ErrorPhiCtgTheta',\n",
       " 'EFlowTrack/EFlowTrack.ErrorCDZ',\n",
       " 'EFlowTrack/EFlowTrack.ErrorCCtgTheta',\n",
       " 'EFlowTrack/EFlowTrack.ErrorDZCtgTheta',\n",
       " 'EFlowTrack/EFlowTrack.Particle',\n",
       " 'EFlowTrack/EFlowTrack.VertexIndex',\n",
       " 'EFlowTrack_size',\n",
       " 'EFlowPhoton',\n",
       " 'EFlowPhoton/EFlowPhoton.fUniqueID',\n",
       " 'EFlowPhoton/EFlowPhoton.fBits',\n",
       " 'EFlowPhoton/EFlowPhoton.ET',\n",
       " 'EFlowPhoton/EFlowPhoton.Eta',\n",
       " 'EFlowPhoton/EFlowPhoton.Phi',\n",
       " 'EFlowPhoton/EFlowPhoton.E',\n",
       " 'EFlowPhoton/EFlowPhoton.T',\n",
       " 'EFlowPhoton/EFlowPhoton.NTimeHits',\n",
       " 'EFlowPhoton/EFlowPhoton.Eem',\n",
       " 'EFlowPhoton/EFlowPhoton.Ehad',\n",
       " 'EFlowPhoton/EFlowPhoton.Edges[4]',\n",
       " 'EFlowPhoton/EFlowPhoton.Particles',\n",
       " 'EFlowPhoton_size',\n",
       " 'EFlowNeutralHadron',\n",
       " 'EFlowNeutralHadron/EFlowNeutralHadron.fUniqueID',\n",
       " 'EFlowNeutralHadron/EFlowNeutralHadron.fBits',\n",
       " 'EFlowNeutralHadron/EFlowNeutralHadron.ET',\n",
       " 'EFlowNeutralHadron/EFlowNeutralHadron.Eta',\n",
       " 'EFlowNeutralHadron/EFlowNeutralHadron.Phi',\n",
       " 'EFlowNeutralHadron/EFlowNeutralHadron.E',\n",
       " 'EFlowNeutralHadron/EFlowNeutralHadron.T',\n",
       " 'EFlowNeutralHadron/EFlowNeutralHadron.NTimeHits',\n",
       " 'EFlowNeutralHadron/EFlowNeutralHadron.Eem',\n",
       " 'EFlowNeutralHadron/EFlowNeutralHadron.Ehad',\n",
       " 'EFlowNeutralHadron/EFlowNeutralHadron.Edges[4]',\n",
       " 'EFlowNeutralHadron/EFlowNeutralHadron.Particles',\n",
       " 'EFlowNeutralHadron_size',\n",
       " 'GenJet',\n",
       " 'GenJet/GenJet.fUniqueID',\n",
       " 'GenJet/GenJet.fBits',\n",
       " 'GenJet/GenJet.PT',\n",
       " 'GenJet/GenJet.Eta',\n",
       " 'GenJet/GenJet.Phi',\n",
       " 'GenJet/GenJet.T',\n",
       " 'GenJet/GenJet.Mass',\n",
       " 'GenJet/GenJet.DeltaEta',\n",
       " 'GenJet/GenJet.DeltaPhi',\n",
       " 'GenJet/GenJet.Flavor',\n",
       " 'GenJet/GenJet.FlavorAlgo',\n",
       " 'GenJet/GenJet.FlavorPhys',\n",
       " 'GenJet/GenJet.BTag',\n",
       " 'GenJet/GenJet.BTagAlgo',\n",
       " 'GenJet/GenJet.BTagPhys',\n",
       " 'GenJet/GenJet.TauTag',\n",
       " 'GenJet/GenJet.TauWeight',\n",
       " 'GenJet/GenJet.Charge',\n",
       " 'GenJet/GenJet.EhadOverEem',\n",
       " 'GenJet/GenJet.NCharged',\n",
       " 'GenJet/GenJet.NNeutrals',\n",
       " 'GenJet/GenJet.NeutralEnergyFraction',\n",
       " 'GenJet/GenJet.ChargedEnergyFraction',\n",
       " 'GenJet/GenJet.Beta',\n",
       " 'GenJet/GenJet.BetaStar',\n",
       " 'GenJet/GenJet.MeanSqDeltaR',\n",
       " 'GenJet/GenJet.PTD',\n",
       " 'GenJet/GenJet.FracPt[5]',\n",
       " 'GenJet/GenJet.Tau[5]',\n",
       " 'GenJet/GenJet.SoftDroppedJet',\n",
       " 'GenJet/GenJet.SoftDroppedSubJet1',\n",
       " 'GenJet/GenJet.SoftDroppedSubJet2',\n",
       " 'GenJet/GenJet.TrimmedP4[5]',\n",
       " 'GenJet/GenJet.PrunedP4[5]',\n",
       " 'GenJet/GenJet.SoftDroppedP4[5]',\n",
       " 'GenJet/GenJet.NSubJetsTrimmed',\n",
       " 'GenJet/GenJet.NSubJetsPruned',\n",
       " 'GenJet/GenJet.NSubJetsSoftDropped',\n",
       " 'GenJet/GenJet.ExclYmerge23',\n",
       " 'GenJet/GenJet.ExclYmerge34',\n",
       " 'GenJet/GenJet.ExclYmerge45',\n",
       " 'GenJet/GenJet.ExclYmerge56',\n",
       " 'GenJet/GenJet.Constituents',\n",
       " 'GenJet/GenJet.Particles',\n",
       " 'GenJet/GenJet.Area',\n",
       " 'GenJet_size',\n",
       " 'GenMissingET',\n",
       " 'GenMissingET/GenMissingET.fUniqueID',\n",
       " 'GenMissingET/GenMissingET.fBits',\n",
       " 'GenMissingET/GenMissingET.MET',\n",
       " 'GenMissingET/GenMissingET.Eta',\n",
       " 'GenMissingET/GenMissingET.Phi',\n",
       " 'GenMissingET_size',\n",
       " 'Jet',\n",
       " 'Jet/Jet.fUniqueID',\n",
       " 'Jet/Jet.fBits',\n",
       " 'Jet/Jet.PT',\n",
       " 'Jet/Jet.Eta',\n",
       " 'Jet/Jet.Phi',\n",
       " 'Jet/Jet.T',\n",
       " 'Jet/Jet.Mass',\n",
       " 'Jet/Jet.DeltaEta',\n",
       " 'Jet/Jet.DeltaPhi',\n",
       " 'Jet/Jet.Flavor',\n",
       " 'Jet/Jet.FlavorAlgo',\n",
       " 'Jet/Jet.FlavorPhys',\n",
       " 'Jet/Jet.BTag',\n",
       " 'Jet/Jet.BTagAlgo',\n",
       " 'Jet/Jet.BTagPhys',\n",
       " 'Jet/Jet.TauTag',\n",
       " 'Jet/Jet.TauWeight',\n",
       " 'Jet/Jet.Charge',\n",
       " 'Jet/Jet.EhadOverEem',\n",
       " 'Jet/Jet.NCharged',\n",
       " 'Jet/Jet.NNeutrals',\n",
       " 'Jet/Jet.NeutralEnergyFraction',\n",
       " 'Jet/Jet.ChargedEnergyFraction',\n",
       " 'Jet/Jet.Beta',\n",
       " 'Jet/Jet.BetaStar',\n",
       " 'Jet/Jet.MeanSqDeltaR',\n",
       " 'Jet/Jet.PTD',\n",
       " 'Jet/Jet.FracPt[5]',\n",
       " 'Jet/Jet.Tau[5]',\n",
       " 'Jet/Jet.SoftDroppedJet',\n",
       " 'Jet/Jet.SoftDroppedSubJet1',\n",
       " 'Jet/Jet.SoftDroppedSubJet2',\n",
       " 'Jet/Jet.TrimmedP4[5]',\n",
       " 'Jet/Jet.PrunedP4[5]',\n",
       " 'Jet/Jet.SoftDroppedP4[5]',\n",
       " 'Jet/Jet.NSubJetsTrimmed',\n",
       " 'Jet/Jet.NSubJetsPruned',\n",
       " 'Jet/Jet.NSubJetsSoftDropped',\n",
       " 'Jet/Jet.ExclYmerge23',\n",
       " 'Jet/Jet.ExclYmerge34',\n",
       " 'Jet/Jet.ExclYmerge45',\n",
       " 'Jet/Jet.ExclYmerge56',\n",
       " 'Jet/Jet.Constituents',\n",
       " 'Jet/Jet.Particles',\n",
       " 'Jet/Jet.Area',\n",
       " 'Jet_size',\n",
       " 'Electron',\n",
       " 'Electron/Electron.fUniqueID',\n",
       " 'Electron/Electron.fBits',\n",
       " 'Electron/Electron.PT',\n",
       " 'Electron/Electron.Eta',\n",
       " 'Electron/Electron.Phi',\n",
       " 'Electron/Electron.T',\n",
       " 'Electron/Electron.Charge',\n",
       " 'Electron/Electron.EhadOverEem',\n",
       " 'Electron/Electron.Particle',\n",
       " 'Electron/Electron.IsolationVar',\n",
       " 'Electron/Electron.IsolationVarRhoCorr',\n",
       " 'Electron/Electron.SumPtCharged',\n",
       " 'Electron/Electron.SumPtNeutral',\n",
       " 'Electron/Electron.SumPtChargedPU',\n",
       " 'Electron/Electron.SumPt',\n",
       " 'Electron/Electron.D0',\n",
       " 'Electron/Electron.DZ',\n",
       " 'Electron/Electron.ErrorD0',\n",
       " 'Electron/Electron.ErrorDZ',\n",
       " 'Electron_size',\n",
       " 'Photon',\n",
       " 'Photon/Photon.fUniqueID',\n",
       " 'Photon/Photon.fBits',\n",
       " 'Photon/Photon.PT',\n",
       " 'Photon/Photon.Eta',\n",
       " 'Photon/Photon.Phi',\n",
       " 'Photon/Photon.E',\n",
       " 'Photon/Photon.T',\n",
       " 'Photon/Photon.EhadOverEem',\n",
       " 'Photon/Photon.Particles',\n",
       " 'Photon/Photon.IsolationVar',\n",
       " 'Photon/Photon.IsolationVarRhoCorr',\n",
       " 'Photon/Photon.SumPtCharged',\n",
       " 'Photon/Photon.SumPtNeutral',\n",
       " 'Photon/Photon.SumPtChargedPU',\n",
       " 'Photon/Photon.SumPt',\n",
       " 'Photon/Photon.Status',\n",
       " 'Photon_size',\n",
       " 'Muon',\n",
       " 'Muon/Muon.fUniqueID',\n",
       " 'Muon/Muon.fBits',\n",
       " 'Muon/Muon.PT',\n",
       " 'Muon/Muon.Eta',\n",
       " 'Muon/Muon.Phi',\n",
       " 'Muon/Muon.T',\n",
       " 'Muon/Muon.Charge',\n",
       " 'Muon/Muon.Particle',\n",
       " 'Muon/Muon.IsolationVar',\n",
       " 'Muon/Muon.IsolationVarRhoCorr',\n",
       " 'Muon/Muon.SumPtCharged',\n",
       " 'Muon/Muon.SumPtNeutral',\n",
       " 'Muon/Muon.SumPtChargedPU',\n",
       " 'Muon/Muon.SumPt',\n",
       " 'Muon/Muon.D0',\n",
       " 'Muon/Muon.DZ',\n",
       " 'Muon/Muon.ErrorD0',\n",
       " 'Muon/Muon.ErrorDZ',\n",
       " 'Muon_size',\n",
       " 'FatJet',\n",
       " 'FatJet/FatJet.fUniqueID',\n",
       " 'FatJet/FatJet.fBits',\n",
       " 'FatJet/FatJet.PT',\n",
       " 'FatJet/FatJet.Eta',\n",
       " 'FatJet/FatJet.Phi',\n",
       " 'FatJet/FatJet.T',\n",
       " 'FatJet/FatJet.Mass',\n",
       " 'FatJet/FatJet.DeltaEta',\n",
       " 'FatJet/FatJet.DeltaPhi',\n",
       " 'FatJet/FatJet.Flavor',\n",
       " 'FatJet/FatJet.FlavorAlgo',\n",
       " 'FatJet/FatJet.FlavorPhys',\n",
       " 'FatJet/FatJet.BTag',\n",
       " 'FatJet/FatJet.BTagAlgo',\n",
       " 'FatJet/FatJet.BTagPhys',\n",
       " 'FatJet/FatJet.TauTag',\n",
       " 'FatJet/FatJet.TauWeight',\n",
       " 'FatJet/FatJet.Charge',\n",
       " 'FatJet/FatJet.EhadOverEem',\n",
       " 'FatJet/FatJet.NCharged',\n",
       " 'FatJet/FatJet.NNeutrals',\n",
       " 'FatJet/FatJet.NeutralEnergyFraction',\n",
       " 'FatJet/FatJet.ChargedEnergyFraction',\n",
       " 'FatJet/FatJet.Beta',\n",
       " 'FatJet/FatJet.BetaStar',\n",
       " 'FatJet/FatJet.MeanSqDeltaR',\n",
       " 'FatJet/FatJet.PTD',\n",
       " 'FatJet/FatJet.FracPt[5]',\n",
       " 'FatJet/FatJet.Tau[5]',\n",
       " 'FatJet/FatJet.SoftDroppedJet',\n",
       " 'FatJet/FatJet.SoftDroppedSubJet1',\n",
       " 'FatJet/FatJet.SoftDroppedSubJet2',\n",
       " 'FatJet/FatJet.TrimmedP4[5]',\n",
       " 'FatJet/FatJet.PrunedP4[5]',\n",
       " 'FatJet/FatJet.SoftDroppedP4[5]',\n",
       " 'FatJet/FatJet.NSubJetsTrimmed',\n",
       " 'FatJet/FatJet.NSubJetsPruned',\n",
       " 'FatJet/FatJet.NSubJetsSoftDropped',\n",
       " 'FatJet/FatJet.ExclYmerge23',\n",
       " 'FatJet/FatJet.ExclYmerge34',\n",
       " 'FatJet/FatJet.ExclYmerge45',\n",
       " 'FatJet/FatJet.ExclYmerge56',\n",
       " 'FatJet/FatJet.Constituents',\n",
       " 'FatJet/FatJet.Particles',\n",
       " 'FatJet/FatJet.Area',\n",
       " 'FatJet_size',\n",
       " 'MissingET',\n",
       " 'MissingET/MissingET.fUniqueID',\n",
       " 'MissingET/MissingET.fBits',\n",
       " 'MissingET/MissingET.MET',\n",
       " 'MissingET/MissingET.Eta',\n",
       " 'MissingET/MissingET.Phi',\n",
       " 'MissingET_size',\n",
       " 'ScalarHT',\n",
       " 'ScalarHT/ScalarHT.fUniqueID',\n",
       " 'ScalarHT/ScalarHT.fBits',\n",
       " 'ScalarHT/ScalarHT.HT',\n",
       " 'ScalarHT_size']"
      ]
     },
     "execution_count": 3,
     "metadata": {},
     "output_type": "execute_result"
    }
   ],
   "source": [
    "tree.keys()"
   ]
  },
  {
   "cell_type": "code",
   "execution_count": 4,
   "id": "cec4a23a-91f1-4ed3-bc58-1fcf121d53df",
   "metadata": {},
   "outputs": [],
   "source": [
    "#Create Branches\n",
    "MET = tree[\"MissingET\"]\n",
    "FatJET = tree[\"FatJet\"]\n",
    "JetSize = tree[\"Jet_size\"]\n",
    "#Electron = tree[\"Electron\"]\n",
    "\n",
    "#Create Leavs arrays\n",
    "METleafs = MET.arrays()\n",
    "FatJetleafs = FatJET.arrays()\n",
    "#Electronleafs = Electron.arrays()   #incomplete\n",
    "# Note that jetsize is directly stored inside the tree\n",
    "JetSizeLeafs = JetSize.arrays()\n",
    "#MuonEta_values = tree[\"Muon/Muon.Eta\"].arrays()#incomplete\n",
    "#MuonPT_values = tree[\"Muon/Muon.PT\"].arrays()#incomplete"
   ]
  },
  {
   "cell_type": "code",
   "execution_count": 5,
   "id": "e31079e6-331d-479b-8044-378befceb494",
   "metadata": {},
   "outputs": [],
   "source": [
    "#MuonPT_List = [ item['Muon.PT'] for item in MuonPT_values]#incomplete"
   ]
  },
  {
   "cell_type": "code",
   "execution_count": 6,
   "id": "7755a10a-4a4f-404c-8131-fd09d6db9f52",
   "metadata": {},
   "outputs": [],
   "source": [
    "#MuonPT_values#incomplete"
   ]
  },
  {
   "cell_type": "code",
   "execution_count": 7,
   "id": "285fb054-d1bb-49a8-aae4-2aeb231c626a",
   "metadata": {},
   "outputs": [],
   "source": [
    "#values for FatJetETA postProcessing\n",
    "FatJetEta_values = FatJetleafs[\"FatJet.Eta\"]\n",
    "FJETA_List = FatJetEta_values.to_list()\n",
    "# for empty elements we return a 0 to make it numerical\n",
    "FJETA_List_converted = [sublist if sublist else [0] for sublist in FJETA_List]     ###### FJETA LIST ########\n",
    "#FJETA_List_converted[9999]"
   ]
  },
  {
   "cell_type": "code",
   "execution_count": 8,
   "id": "a96f12e9-82bc-4cd6-8e54-90df9fd8c328",
   "metadata": {},
   "outputs": [],
   "source": [
    "#values for FatJetPT postProcessing\n",
    "FatJetPT_values = FatJetleafs[\"FatJet.PT\"]\n",
    "FJPT_List = FatJetPT_values.to_list()\n",
    "# for empty elements we return a 0 to make it numerical\n",
    "FJPT_List_converted = [sublist if sublist else [0] for sublist in FJPT_List]       ###### FJPT LIST ########\n",
    "#FJPT_List_converted[9999]"
   ]
  },
  {
   "cell_type": "code",
   "execution_count": 9,
   "id": "122945a9-b5fe-4284-8a3b-d5d4dfaa51e8",
   "metadata": {},
   "outputs": [],
   "source": [
    "met_values = METleafs[\"MissingET.MET\"]\n",
    "MET_List = met_values.to_list()\n",
    "#in case of empty elements\n",
    "MET_List_converted = [sublist if sublist else [0] for sublist in MET_List]         ###### MET LIST ########\n",
    "#MET_List_converted [9999]"
   ]
  },
  {
   "cell_type": "code",
   "execution_count": 10,
   "id": "c5bbdff9-e214-4c62-bbf0-39ebe780339a",
   "metadata": {},
   "outputs": [],
   "source": [
    "JetSize_List = JetSizeLeafs.to_list()\n",
    "#in case of empty elements\n",
    "JetSize_List_converted = [sublist if sublist else [0] for sublist in JetSize_List]         ###### JETSIZE ########\n",
    "#JetSize_List_converted[9999]"
   ]
  },
  {
   "cell_type": "code",
   "execution_count": 11,
   "id": "dd25748f-0a35-4834-925e-4f47bf714b8e",
   "metadata": {},
   "outputs": [],
   "source": [
    "Particleleaf= tree[\"Particle/Particle.PID\"]\n",
    "PPID_Leaf_array = Particleleaf.arrays()\n",
    "PPID_List = PPID_Leaf_array.to_list()\n",
    "PPID_List_converted = [sublist if sublist else [0] for sublist in PPID_List]         ###### Particle_PID ########\n"
   ]
  },
  {
   "cell_type": "code",
   "execution_count": 12,
   "id": "265502d6-26d2-4ab1-836f-c691d61467c8",
   "metadata": {},
   "outputs": [
    {
     "data": {
      "text/plain": [
       "1178"
      ]
     },
     "execution_count": 12,
     "metadata": {},
     "output_type": "execute_result"
    }
   ],
   "source": [
    "## checking for muon\n",
    "mu_indecis = []\n",
    "j = 0\n",
    "for i in PPID_List_converted:\n",
    "    \n",
    "    if 13 in i['Particle.PID']:\n",
    "        #print(\"13 is present in the list with idex of:\",j)\n",
    "        mu_indecis.append(j)\n",
    "    #else:\n",
    "        #print(\"13 is not present in the list\")\n",
    "    j+=1\n",
    "\n",
    "len(mu_indecis)\n",
    "#print(mu_indecis)"
   ]
  },
  {
   "cell_type": "code",
   "execution_count": 13,
   "id": "e5285bde-1ce2-4af4-bb02-f2af0d09efc9",
   "metadata": {},
   "outputs": [
    {
     "data": {
      "text/plain": [
       "10000"
      ]
     },
     "execution_count": 13,
     "metadata": {},
     "output_type": "execute_result"
    }
   ],
   "source": [
    "# Checking for electron\n",
    "k = 0\n",
    "e_indices = []\n",
    "\n",
    "for i in PPID_List_converted:\n",
    "    count_var = i['Particle.PID'].count(11)\n",
    "    if count_var>1:\n",
    "        e_indices.append(k)\n",
    "        #print(\"Event with the following indice has a final electron\",k)\n",
    "    #else:\n",
    "        #print(\"Event with the following indice has zero final electron\",k)\n",
    "    k+=1\n",
    "\n",
    "\n",
    "len(e_indices)\n",
    "#print(e_indices)\n",
    "\n"
   ]
  },
  {
   "cell_type": "code",
   "execution_count": 14,
   "id": "e67e87ae-0193-4605-9a45-8dae0c9b5b53",
   "metadata": {},
   "outputs": [],
   "source": [
    "# Calculating the common indices:\n",
    "set_mu = set(mu_indecis)\n",
    "set_electron = set(e_indices)\n",
    "common_elements = set_mu.intersection(set_electron)\n",
    "leptonic_and_list = list(common_elements)                                       #### NOT NEEDED IN THIS ANALYSIS\n",
    "# List of processes with both electron and muons in the final state"
   ]
  },
  {
   "cell_type": "code",
   "execution_count": 15,
   "id": "db138805-e1d8-4a2c-93cf-e258fbb6b017",
   "metadata": {},
   "outputs": [
    {
     "data": {
      "text/plain": [
       "1178"
      ]
     },
     "execution_count": 15,
     "metadata": {},
     "output_type": "execute_result"
    }
   ],
   "source": [
    "len(leptonic_and_list)"
   ]
  },
  {
   "cell_type": "code",
   "execution_count": 16,
   "id": "aceb6875-3ac8-4658-bb2c-28c15bd3c4a5",
   "metadata": {},
   "outputs": [
    {
     "data": {
      "text/plain": [
       "10000"
      ]
     },
     "execution_count": 16,
     "metadata": {},
     "output_type": "execute_result"
    }
   ],
   "source": [
    "leptonic_or_set = set(e_indices+mu_indecis)\n",
    "leptonic_or_list = list(leptonic_or_set)       #### Don't use this for our TASK! we need the hist for corresponding leptons\n",
    "len(leptonic_or_list)                          ### not all processes with have either of the electron or muons\n",
    "                                               #   It's just for further analyses."
   ]
  },
  {
   "cell_type": "code",
   "execution_count": 17,
   "id": "9db57e3f-46a9-4234-843b-6035012addac",
   "metadata": {},
   "outputs": [
    {
     "name": "stdout",
     "output_type": "stream",
     "text": [
      "7998\n"
     ]
    }
   ],
   "source": [
    "JetSizeCount_List = [   entry['Jet_size'] for entry in JetSize_List_converted   ]\n",
    "\n",
    "jetcounter=0\n",
    "Jet_Indices=[]\n",
    "for jjcounter in JetSizeCount_List:\n",
    "    if jjcounter >= 2:\n",
    "        Jet_Indices.append(jetcounter)\n",
    "    jetcounter += 1\n",
    "len(Jet_Indices)\n",
    "#Jet_Indices               ### Indices for Jets >=2         ESSENTIAL\n",
    "set_jet = set(Jet_Indices)\n",
    "print(len(set_jet))"
   ]
  },
  {
   "cell_type": "code",
   "execution_count": 18,
   "id": "8d005e84-a072-4772-b0a7-bf3557726681",
   "metadata": {},
   "outputs": [
    {
     "data": {
      "text/plain": [
       "10000"
      ]
     },
     "execution_count": 18,
     "metadata": {},
     "output_type": "execute_result"
    }
   ],
   "source": [
    "FlatMET_List = [number for sublist in MET_List_converted for number in sublist]  \n",
    "\n",
    "metcounter = 0\n",
    "met_Indices = []                              ## USE met_Indecies for calculations\n",
    "for met in FlatMET_List:\n",
    "    if met >0:\n",
    "        met_Indices.append(metcounter)\n",
    "    metcounter +=1\n",
    "\n",
    "set_MET = set(met_Indices)\n",
    "len(set_MET)\n",
    "\n",
    "## since all of the processes has missing energy MET. we will not go through these indices."
   ]
  },
  {
   "cell_type": "code",
   "execution_count": 19,
   "id": "3fb218b5-9db9-46f1-9934-e4f00418d005",
   "metadata": {},
   "outputs": [],
   "source": [
    "# Checking if Jet >= 2 , MET > 0 and having a muon PID(13) > 0"
   ]
  },
  {
   "cell_type": "code",
   "execution_count": 20,
   "id": "23128f9c-8ec3-4a74-8f1f-cbf489475dc5",
   "metadata": {},
   "outputs": [
    {
     "data": {
      "text/plain": [
       "897"
      ]
     },
     "execution_count": 20,
     "metadata": {},
     "output_type": "execute_result"
    }
   ],
   "source": [
    "Compared_Mu_Jet_MET_List = list(set_jet.intersection(set_mu,set_MET))\n",
    "len(Compared_Mu_Jet_MET_List)\n"
   ]
  },
  {
   "cell_type": "code",
   "execution_count": 21,
   "id": "f2a812eb-5daf-4e8f-adbe-4a93d0531135",
   "metadata": {},
   "outputs": [
    {
     "data": {
      "text/plain": [
       "7998"
      ]
     },
     "execution_count": 21,
     "metadata": {},
     "output_type": "execute_result"
    }
   ],
   "source": [
    "# Checking if Jet >= 2 , MET > 0 and having a electron PID(11) > 1 (since the initial state has one electron inside)\n",
    "\n",
    "Compared_Electron_Jet_MET_List = list(set_jet.intersection(set_electron, set_MET))\n",
    "len(Compared_Electron_Jet_MET_List)"
   ]
  },
  {
   "cell_type": "code",
   "execution_count": 22,
   "id": "d412bb5a-f383-4703-8e96-f76fc823e292",
   "metadata": {},
   "outputs": [],
   "source": [
    "FJPT_Hist_data = []\n",
    "for index in Compared_Mu_Jet_MET_List:\n",
    "    FJPT_Hist_data.append(FJPT_List_converted[index])"
   ]
  },
  {
   "cell_type": "code",
   "execution_count": 23,
   "id": "fa02927a-0677-491e-afa1-3be683b261c3",
   "metadata": {},
   "outputs": [],
   "source": [
    "FJEta_Hist_data = []\n",
    "for index in Compared_Mu_Jet_MET_List:\n",
    "    FJEta_Hist_data.append(FJETA_List_converted[index])"
   ]
  },
  {
   "cell_type": "code",
   "execution_count": 24,
   "id": "e637c3b8-9887-4e19-884c-ebf6483efe16",
   "metadata": {},
   "outputs": [],
   "source": [
    "Electron = tree[\"Electron\"]\n",
    "Electronleafs =Electron.arrays()\n",
    "Electron_List = Electronleafs.to_list()\n",
    "#electronPT_values = Electron_List(\"Electron.PT\")\n",
    "electronPT_values = Electronleafs[\"Electron.PT\"].to_list()\n",
    "electronEta_values = Electronleafs[\"Electron.Eta\"].to_list()\n",
    "\n",
    "#Converting the empty elements to zero elements\n",
    "electronPT_List_converted = [ sublist if sublist else [0] for sublist in  electronPT_values ]\n",
    "electronEta_List_converted = [ sublist if sublist else [0] for sublist in  electronEta_values ]\n"
   ]
  },
  {
   "cell_type": "code",
   "execution_count": 25,
   "id": "71e937ae-e0fe-45ed-bed6-7b56a963706f",
   "metadata": {},
   "outputs": [],
   "source": [
    "Muon = tree[\"Muon\"]\n",
    "\n",
    "\n",
    "MuonPTleafs = Muon[\"Muon.PT\"]\n",
    "MuonPT_List = MuonPTleafs.arrays()\n",
    "MuonPT_List_unpadded = MuonPT_List['Muon.PT'].to_list()\n",
    "\n",
    "MuonEtaleafs = Muon[\"Muon.Eta\"]\n",
    "MuonEta_List = MuonEtaleafs.arrays()\n",
    "MuonEta_List_unpadded = MuonEta_List['Muon.Eta'].to_list()"
   ]
  },
  {
   "cell_type": "code",
   "execution_count": 26,
   "id": "8f302b3e-7849-4ead-a79e-82b8b73aa463",
   "metadata": {},
   "outputs": [],
   "source": [
    "MuonPT_converted = [ sublist if sublist else [0] for sublist in   MuonPT_List_unpadded       ]\n",
    "MuonEta_converted = [sublist if sublist else [0] for sublist in MuonEta_List_unpadded  ]"
   ]
  },
  {
   "cell_type": "code",
   "execution_count": 27,
   "id": "86bf9eec-8d53-4f30-a952-298aace86066",
   "metadata": {},
   "outputs": [],
   "source": [
    "# Prepare Data for hist"
   ]
  },
  {
   "cell_type": "code",
   "execution_count": 28,
   "id": "f82aec85-93b2-4513-a00a-b73da13aa2a9",
   "metadata": {},
   "outputs": [],
   "source": [
    "MuPT_Hist_data = []                                     ### USE THIS HIST\n",
    "for index in Compared_Mu_Jet_MET_List:\n",
    "    MuPT_Hist_data.append(MuonPT_converted[index])"
   ]
  },
  {
   "cell_type": "code",
   "execution_count": 29,
   "id": "41a637d9-0642-4e22-857b-16f1c36ea0ae",
   "metadata": {},
   "outputs": [],
   "source": [
    "MuEta_Hist_data = []                                     ### USE THIS HIST\n",
    "for index in Compared_Mu_Jet_MET_List:\n",
    "    MuEta_Hist_data.append(MuonEta_converted[index])"
   ]
  },
  {
   "cell_type": "code",
   "execution_count": 30,
   "id": "d863d80b-5b0c-4d90-b8ab-301a66319fae",
   "metadata": {},
   "outputs": [],
   "source": [
    "ePT_Hist_data = []                                     ### USE THIS HIST\n",
    "for index in Compared_Mu_Jet_MET_List:\n",
    "    ePT_Hist_data.append(electronPT_List_converted[index])"
   ]
  },
  {
   "cell_type": "code",
   "execution_count": 31,
   "id": "e627acab-1106-459f-a647-272aec16d61e",
   "metadata": {},
   "outputs": [],
   "source": [
    "eEta_Hist_data = []                                     ### USE THIS HIST\n",
    "for index in Compared_Mu_Jet_MET_List:\n",
    "    eEta_Hist_data.append(electronEta_List_converted[index])"
   ]
  },
  {
   "cell_type": "code",
   "execution_count": 32,
   "id": "a1189998-f689-4413-a56b-cecb0bd2466f",
   "metadata": {},
   "outputs": [],
   "source": [
    "# We also calculated before:"
   ]
  },
  {
   "cell_type": "code",
   "execution_count": 33,
   "id": "47d6206f-d0e9-4718-8374-8e138632b702",
   "metadata": {},
   "outputs": [],
   "source": [
    "#FJPT_Hist_data = []                                    ### USE THIS HIST\n",
    "#for index in Compared_Mu_Jet_MET_List:\n",
    "#    FJPT_Hist_data.append(FJPT_List_converted[index])"
   ]
  },
  {
   "cell_type": "code",
   "execution_count": 34,
   "id": "a03155a4-151d-4a16-a940-99ee2fdcde25",
   "metadata": {},
   "outputs": [],
   "source": [
    "#FJEta_Hist_data = []                                     ### USE THIS HIST\n",
    "#for index in Compared_Mu_Jet_MET_List:\n",
    "#    FJPT_Hist_data.append(FJETA_List_converted[index])"
   ]
  },
  {
   "cell_type": "code",
   "execution_count": 35,
   "id": "af559385-9464-403e-90ca-7d995a1c0d7d",
   "metadata": {},
   "outputs": [],
   "source": [
    "############################################################ ############################################################"
   ]
  },
  {
   "cell_type": "code",
   "execution_count": 36,
   "id": "4f5c3838-8aab-4714-afb0-6212cd8dee20",
   "metadata": {},
   "outputs": [],
   "source": [
    "############################################################ CREATING HISTOGRAMS ############################################################"
   ]
  },
  {
   "cell_type": "code",
   "execution_count": 37,
   "id": "80b43b1d-da29-414e-9cb0-e97e2e1d118f",
   "metadata": {},
   "outputs": [],
   "source": [
    "########################################################################################################################"
   ]
  },
  {
   "cell_type": "code",
   "execution_count": 38,
   "id": "31af9623-7a80-4ed5-9563-bbcad9c47c7c",
   "metadata": {},
   "outputs": [
    {
     "data": {
      "image/png": "[encoded data removed]",
      "text/plain": [
       "<Figure size 640x480 with 1 Axes>"
      ]
     },
     "metadata": {},
     "output_type": "display_data"
    }
   ],
   "source": [
    "eEtaPlot = [item for sublist in eEta_Hist_data for item in sublist]\n",
    "\n",
    "# Count the occurrences of non-zero values\n",
    "non_zero_count_eEta = np.count_nonzero(eEtaPlot)\n",
    "\n",
    "# Plot histogram\n",
    "plt.hist(eEtaPlot, bins=50, alpha=0.5)\n",
    "plt.yscale('log')  # Logarithmic scale on y-axis\n",
    "plt.xlabel('Value')\n",
    "plt.ylabel('Frequency (log scale)')\n",
    "plt.title('Histogram of (e- Eta)non-zero values ({} non-zero values)'.format(non_zero_count_eEta))\n",
    "plt.grid(True)\n",
    "plt.savefig('eEtaPlot.png', dpi=600) \n",
    "plt.show()\n"
   ]
  },
  {
   "cell_type": "code",
   "execution_count": 39,
   "id": "b5034431-cbae-4608-88bf-1235b353ea18",
   "metadata": {},
   "outputs": [
    {
     "data": {
      "image/png": "[encoded data removed]",
      "text/plain": [
       "<Figure size 640x480 with 1 Axes>"
      ]
     },
     "metadata": {},
     "output_type": "display_data"
    }
   ],
   "source": [
    "ePTPlot = [item for sublist in ePT_Hist_data for item in sublist]\n",
    "\n",
    "# Count the occurrences of non-zero values\n",
    "non_zero_count_ePT = np.count_nonzero(ePTPlot)\n",
    "\n",
    "# Plot histogram\n",
    "plt.hist(ePTPlot, bins=50, alpha=0.5)\n",
    "plt.yscale('log')  # Logarithmic scale on y-axis\n",
    "plt.xlabel('Value')\n",
    "plt.ylabel('Frequency (log scale)')\n",
    "plt.title('Histogram of (e- PT)non-zero values ({} non-zero values)'.format(non_zero_count_ePT))\n",
    "plt.grid(True)\n",
    "plt.savefig('ePTPlot.png', dpi=600) \n",
    "plt.show()\n"
   ]
  },
  {
   "cell_type": "code",
   "execution_count": 40,
   "id": "c247c02f-aa09-4b87-8558-0228afcf4cc4",
   "metadata": {},
   "outputs": [
    {
     "data": {
      "image/png": "[encoded data removed]",
      "text/plain": [
       "<Figure size 640x480 with 1 Axes>"
      ]
     },
     "metadata": {},
     "output_type": "display_data"
    }
   ],
   "source": [
    "muEtaPlot = [item for sublist in MuEta_Hist_data for item in sublist]\n",
    "\n",
    "# Count the occurrences of non-zero values\n",
    "non_zero_count_muEta = np.count_nonzero(muEtaPlot)\n",
    "\n",
    "# Plot histogram\n",
    "plt.hist(muEtaPlot, bins=50, alpha=0.5)\n",
    "plt.yscale('log')  # Logarithmic scale on y-axis\n",
    "plt.xlabel('Value')\n",
    "plt.ylabel('Frequency (log scale)')\n",
    "plt.title('Histogram of (mu- Eta)non-zero values ({} non-zero values)'.format(non_zero_count_muEta))\n",
    "plt.grid(True)\n",
    "plt.savefig('muEtaPlot.png', dpi=600) \n",
    "plt.show()\n"
   ]
  },
  {
   "cell_type": "code",
   "execution_count": 41,
   "id": "8f8da5dd-69c3-414e-a21f-270223c8b558",
   "metadata": {},
   "outputs": [
    {
     "data": {
      "image/png": "[encoded data removed]",
      "text/plain": [
       "<Figure size 640x480 with 1 Axes>"
      ]
     },
     "metadata": {},
     "output_type": "display_data"
    }
   ],
   "source": [
    "muPTPlot = [item for sublist in MuPT_Hist_data for item in sublist]\n",
    "\n",
    "# Count the occurrences of non-zero values\n",
    "non_zero_count_muEta = np.count_nonzero(muPTPlot)\n",
    "\n",
    "# Plot histogram\n",
    "plt.hist(muPTPlot, bins=50, alpha=0.5)\n",
    "plt.yscale('log')  # Logarithmic scale on y-axis\n",
    "plt.xlabel('Value')\n",
    "plt.ylabel('Frequency (log scale)')\n",
    "plt.title('Histogram of (mu- PT)non-zero values ({} non-zero values)'.format(non_zero_count_muEta))\n",
    "plt.grid(True)\n",
    "plt.savefig('muPTPlot.png', dpi=600) \n",
    "plt.show()\n"
   ]
  },
  {
   "cell_type": "code",
   "execution_count": 42,
   "id": "4d4b07ee-5e81-4eba-a598-1b3b0fbb8e35",
   "metadata": {},
   "outputs": [
    {
     "data": {
      "image/png": "[encoded data removed]",
      "text/plain": [
       "<Figure size 640x480 with 1 Axes>"
      ]
     },
     "metadata": {},
     "output_type": "display_data"
    }
   ],
   "source": [
    "FJPTPlot = [item for sublist in FJPT_Hist_data for item in sublist]\n",
    "\n",
    "# Count the occurrences of non-zero values\n",
    "non_zero_count_FJPT = np.count_nonzero(FJPTPlot)\n",
    "\n",
    "# Plot histogram\n",
    "plt.hist(FJPTPlot, bins=50, alpha=0.5)\n",
    "plt.yscale('log')  # Logarithmic scale on y-axis\n",
    "plt.xlabel('Value')\n",
    "plt.ylabel('Frequency (log scale)')\n",
    "plt.title('Histogram of (FatJet PT)non-zero values ({} non-zero values)'.format(non_zero_count_FJPT))\n",
    "plt.grid(True)\n",
    "plt.savefig('FJPTPlot.png', dpi=600) \n",
    "plt.show()\n"
   ]
  },
  {
   "cell_type": "code",
   "execution_count": 43,
   "id": "17d1bc8a-f265-42e5-b324-6e1bc4b960e5",
   "metadata": {},
   "outputs": [
    {
     "data": {
      "image/png": "[encoded data removed]",
      "text/plain": [
       "<Figure size 640x480 with 1 Axes>"
      ]
     },
     "metadata": {},
     "output_type": "display_data"
    }
   ],
   "source": [
    "FJETAPlot = [item for sublist in FJEta_Hist_data for item in sublist]\n",
    "\n",
    "# Count the occurrences of non-zero values\n",
    "non_zero_count_FJETA = np.count_nonzero(FJETAPlot)\n",
    "\n",
    "# Plot histogram\n",
    "plt.hist(FJETAPlot, bins=50, alpha=0.5)\n",
    "plt.yscale('log')  # Logarithmic scale on y-axis\n",
    "plt.xlabel('Value')\n",
    "plt.ylabel('Frequency (log scale)')\n",
    "plt.title('Histogram of (FatJet ETA)non-zero values ({} non-zero values)'.format(non_zero_count_FJETA))\n",
    "plt.grid(True)\n",
    "plt.savefig('FJETAPlot.png', dpi=600) \n",
    "plt.show()\n"
   ]
  },
  {
   "cell_type": "code",
   "execution_count": null,
   "id": "9ee3a658-efda-4e94-af7e-1d29118ee04b",
   "metadata": {},
   "outputs": [],
   "source": []
  }
 ],
 "metadata": {
  "kernelspec": {
   "display_name": "Python 3 (ipykernel)",
   "language": "python",
   "name": "python3"
  },
  "language_info": {
   "codemirror_mode": {
    "name": "ipython",
    "version": 3
   },
   "file_extension": ".py",
   "mimetype": "text/x-python",
   "name": "python",
   "nbconvert_exporter": "python",
   "pygments_lexer": "ipython3",
   "version": "3.11.8"
  }
 },
 "nbformat": 4,
 "nbformat_minor": 5
}
